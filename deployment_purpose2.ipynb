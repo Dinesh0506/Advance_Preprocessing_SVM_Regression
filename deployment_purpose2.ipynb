{
 "cells": [
  {
   "cell_type": "code",
   "execution_count": 3,
   "id": "2b49ed5e",
   "metadata": {},
   "outputs": [],
   "source": [
    "#importing the libary\n",
    "import pandas as pd \n",
    "import pickle"
   ]
  },
  {
   "cell_type": "code",
   "execution_count": 4,
   "id": "6f3aa7ac",
   "metadata": {},
   "outputs": [],
   "source": [
    "#read a file and print the data\n",
    "dataset=pd.read_csv('50_Startups.csv')\n",
    "dataset=pd.get_dummies(dataset,drop_first=True)\n",
    "indepentent=dataset[['R&D Spend', 'Administration', 'Marketing Spend','State_Florida', 'State_New York']]\n",
    "depentent=dataset[['Profit']]\n",
    "#Spliting the training set and test set based on the statement\n",
    "from sklearn.model_selection import train_test_split\n",
    "X_train,X_test,Y_train,Y_test=train_test_split(indepentent,depentent,test_size=1/3,random_state=0)"
   ]
  },
  {
   "cell_type": "code",
   "execution_count": 5,
   "id": "e26c9e28",
   "metadata": {},
   "outputs": [],
   "source": [
    "#preprocessed the input using StandardSclar function\n",
    "from sklearn.preprocessing import StandardScaler\n",
    "sc= StandardScaler()\n",
    "X_train=sc.fit_transform(X_train)\n",
    "X_test=sc.transform(X_test)"
   ]
  },
  {
   "cell_type": "code",
   "execution_count": 6,
   "id": "7ac7538f",
   "metadata": {},
   "outputs": [],
   "source": [
    "#preprocessed the input using StandardSclar function\n",
    "from sklearn.preprocessing import StandardScaler\n",
    "scy= StandardScaler()\n",
    "Y_train=scy.fit_transform(Y_train)\n",
    "Y_test=scy.transform(Y_test)"
   ]
  },
  {
   "cell_type": "code",
   "execution_count": null,
   "id": "bb935471",
   "metadata": {},
   "outputs": [],
   "source": []
  }
 ],
 "metadata": {
  "kernelspec": {
   "display_name": "Python 3 (ipykernel)",
   "language": "python",
   "name": "python3"
  },
  "language_info": {
   "codemirror_mode": {
    "name": "ipython",
    "version": 3
   },
   "file_extension": ".py",
   "mimetype": "text/x-python",
   "name": "python",
   "nbconvert_exporter": "python",
   "pygments_lexer": "ipython3",
   "version": "3.9.13"
  }
 },
 "nbformat": 4,
 "nbformat_minor": 5
}
