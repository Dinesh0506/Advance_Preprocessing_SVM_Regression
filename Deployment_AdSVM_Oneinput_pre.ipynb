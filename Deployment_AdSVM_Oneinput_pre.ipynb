{
 "cells": [
  {
   "cell_type": "code",
   "execution_count": 13,
   "id": "98a1e7c0",
   "metadata": {},
   "outputs": [],
   "source": [
    "#importing the libary\n",
    "import pandas as pd \n",
    "import pickle"
   ]
  },
  {
   "cell_type": "code",
   "execution_count": 8,
   "id": "98bd81b7",
   "metadata": {},
   "outputs": [],
   "source": [
    "#read a file and print the data\n",
    "#dataset=pd.read_csv('50_Startups.csv')\n",
    "#dataset=pd.get_dummies(dataset,drop_first=True)\n",
    "#indepentent=dataset[['R&D Spend', 'Administration', 'Marketing Spend','State_Florida', 'State_New York']]\n",
    "#depentent=dataset[['Profit']]\n"
   ]
  },
  {
   "cell_type": "code",
   "execution_count": 9,
   "id": "bc08254c",
   "metadata": {},
   "outputs": [],
   "source": [
    "#Spliting the training set and test set based on the statement\n",
    "#from sklearn.model_selection import train_test_split\n",
    "#X_train,X_test,Y_train,Y_test=train_test_split(indepentent,depentent,test_size=1/3,random_state=0)"
   ]
  },
  {
   "cell_type": "code",
   "execution_count": 10,
   "id": "9657bba1",
   "metadata": {},
   "outputs": [],
   "source": [
    "#preprocessed the input using StandardSclar function\n",
    "#from sklearn.preprocessing import StandardScaler\n",
    "#sc= StandardScaler()\n",
    "#X_train=sc.fit_transform(X_train)\n",
    "#X_test=sc.transform(X_test)"
   ]
  },
  {
   "cell_type": "code",
   "execution_count": 16,
   "id": "c0043682",
   "metadata": {},
   "outputs": [],
   "source": [
    "filename=open('deployment_purpose.py','wb')"
   ]
  },
  {
   "cell_type": "code",
   "execution_count": 17,
   "id": "16e64bc2",
   "metadata": {},
   "outputs": [
    {
     "name": "stderr",
     "output_type": "stream",
     "text": [
      "C:\\Anconda\\lib\\site-packages\\sklearn\\base.py:450: UserWarning: X does not have valid feature names, but StandardScaler was fitted with feature names\n",
      "  warnings.warn(\n"
     ]
    }
   ],
   "source": [
    "preinput=sc.transform([[1500,1000,2500,0,1]])"
   ]
  },
  {
   "cell_type": "code",
   "execution_count": 18,
   "id": "427dc510",
   "metadata": {},
   "outputs": [
    {
     "data": {
      "text/plain": [
       "array([107448.18285571])"
      ]
     },
     "execution_count": 18,
     "metadata": {},
     "output_type": "execute_result"
    }
   ],
   "source": [
    "loaded_model= pickle.load(open('AdvanceSVM_Regression_oneinputpre.sav','rb'))\n",
    "result= loaded_model.predict(preinput)\n",
    "result"
   ]
  },
  {
   "cell_type": "code",
   "execution_count": null,
   "id": "be1e4eda",
   "metadata": {},
   "outputs": [],
   "source": []
  }
 ],
 "metadata": {
  "kernelspec": {
   "display_name": "Python 3 (ipykernel)",
   "language": "python",
   "name": "python3"
  },
  "language_info": {
   "codemirror_mode": {
    "name": "ipython",
    "version": 3
   },
   "file_extension": ".py",
   "mimetype": "text/x-python",
   "name": "python",
   "nbconvert_exporter": "python",
   "pygments_lexer": "ipython3",
   "version": "3.9.13"
  }
 },
 "nbformat": 4,
 "nbformat_minor": 5
}
